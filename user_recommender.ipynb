{
  "nbformat": 4,
  "nbformat_minor": 0,
  "metadata": {
    "colab": {
      "provenance": [],
      "machine_shape": "hm",
      "gpuType": "V5E1"
    },
    "kernelspec": {
      "name": "python3",
      "display_name": "Python 3"
    },
    "language_info": {
      "name": "python"
    },
    "accelerator": "TPU"
  },
  "cells": [
    {
      "cell_type": "markdown",
      "source": [
        "## Installations and imports"
      ],
      "metadata": {
        "id": "uUJZlYMN_BJn"
      }
    },
    {
      "cell_type": "code",
      "source": [
        "# Installations\n",
        "!pip install -qq lightgbm\n",
        "!pip install -qq matplotlib"
      ],
      "metadata": {
        "id": "ZLwOzYVS_UtQ"
      },
      "execution_count": 1,
      "outputs": []
    },
    {
      "cell_type": "code",
      "source": [
        "# Imports\n",
        "import numpy as np\n",
        "import pandas as pd\n",
        "import lightgbm as lgb\n",
        "from collections import defaultdict\n",
        "\n",
        "import pandas as pd\n",
        "import numpy as np\n",
        "import lightgbm as lgb\n",
        "import matplotlib.pyplot as plt\n",
        "\n",
        "import warnings\n",
        "warnings.filterwarnings('ignore')"
      ],
      "metadata": {
        "id": "cwHBbNF4_bTA"
      },
      "execution_count": 2,
      "outputs": []
    },
    {
      "cell_type": "markdown",
      "source": [
        "## Input loading and preprocessing\n",
        "\n"
      ],
      "metadata": {
        "id": "ZsAS_rnFAA5-"
      }
    },
    {
      "cell_type": "code",
      "source": [
        "# Loading swipes data\n",
        "swipes = pd.read_csv(\"swipes.csv\")"
      ],
      "metadata": {
        "id": "uNehPsp4_iZ9"
      },
      "execution_count": 3,
      "outputs": []
    },
    {
      "cell_type": "code",
      "source": [
        "# Checking the data\n",
        "swipes.head()"
      ],
      "metadata": {
        "id": "0ATAYegUAUBa",
        "colab": {
          "base_uri": "https://localhost:8080/",
          "height": 400
        },
        "outputId": "9e25099d-43e8-4fa4-a495-3d51a14581e4"
      },
      "execution_count": 4,
      "outputs": [
        {
          "output_type": "execute_result",
          "data": {
            "text/plain": [
              "   decidermemberid  othermemberid            timestamp  like decidergender  \\\n",
              "0          3847776        3227524  2021-01-01 00:00:06     1             M   \n",
              "1           608590         519321  2021-01-01 00:00:06     0             F   \n",
              "2           397116         453914  2021-01-01 00:00:06     0             F   \n",
              "3          3847776        1269455  2021-01-01 00:00:06     1             M   \n",
              "4          1630969         347909  2021-01-01 00:00:23     0             F   \n",
              "\n",
              "  othergender  deciderdobyear  otherdobyear decidersignuptimestamp  \\\n",
              "0           F            2002          1999    2020-12-28 11:19:02   \n",
              "1           M            1996          1992    2018-08-10 22:55:32   \n",
              "2           M            1991          1991    2018-03-04 22:14:06   \n",
              "3           F            2002          2000    2020-12-28 11:19:02   \n",
              "4           M            1980          1983    2019-08-29 00:07:22   \n",
              "\n",
              "  othersignuptimestamp  \n",
              "0  2020-08-17 12:46:39  \n",
              "1  2018-06-17 15:34:37  \n",
              "2  2018-04-25 21:22:26  \n",
              "3  2019-04-22 20:02:54  \n",
              "4  2018-01-17 12:14:03  "
            ],
            "text/html": [
              "\n",
              "  <div id=\"df-13703199-24ba-4bef-9ffb-fbde4f64b209\" class=\"colab-df-container\">\n",
              "    <div>\n",
              "<style scoped>\n",
              "    .dataframe tbody tr th:only-of-type {\n",
              "        vertical-align: middle;\n",
              "    }\n",
              "\n",
              "    .dataframe tbody tr th {\n",
              "        vertical-align: top;\n",
              "    }\n",
              "\n",
              "    .dataframe thead th {\n",
              "        text-align: right;\n",
              "    }\n",
              "</style>\n",
              "<table border=\"1\" class=\"dataframe\">\n",
              "  <thead>\n",
              "    <tr style=\"text-align: right;\">\n",
              "      <th></th>\n",
              "      <th>decidermemberid</th>\n",
              "      <th>othermemberid</th>\n",
              "      <th>timestamp</th>\n",
              "      <th>like</th>\n",
              "      <th>decidergender</th>\n",
              "      <th>othergender</th>\n",
              "      <th>deciderdobyear</th>\n",
              "      <th>otherdobyear</th>\n",
              "      <th>decidersignuptimestamp</th>\n",
              "      <th>othersignuptimestamp</th>\n",
              "    </tr>\n",
              "  </thead>\n",
              "  <tbody>\n",
              "    <tr>\n",
              "      <th>0</th>\n",
              "      <td>3847776</td>\n",
              "      <td>3227524</td>\n",
              "      <td>2021-01-01 00:00:06</td>\n",
              "      <td>1</td>\n",
              "      <td>M</td>\n",
              "      <td>F</td>\n",
              "      <td>2002</td>\n",
              "      <td>1999</td>\n",
              "      <td>2020-12-28 11:19:02</td>\n",
              "      <td>2020-08-17 12:46:39</td>\n",
              "    </tr>\n",
              "    <tr>\n",
              "      <th>1</th>\n",
              "      <td>608590</td>\n",
              "      <td>519321</td>\n",
              "      <td>2021-01-01 00:00:06</td>\n",
              "      <td>0</td>\n",
              "      <td>F</td>\n",
              "      <td>M</td>\n",
              "      <td>1996</td>\n",
              "      <td>1992</td>\n",
              "      <td>2018-08-10 22:55:32</td>\n",
              "      <td>2018-06-17 15:34:37</td>\n",
              "    </tr>\n",
              "    <tr>\n",
              "      <th>2</th>\n",
              "      <td>397116</td>\n",
              "      <td>453914</td>\n",
              "      <td>2021-01-01 00:00:06</td>\n",
              "      <td>0</td>\n",
              "      <td>F</td>\n",
              "      <td>M</td>\n",
              "      <td>1991</td>\n",
              "      <td>1991</td>\n",
              "      <td>2018-03-04 22:14:06</td>\n",
              "      <td>2018-04-25 21:22:26</td>\n",
              "    </tr>\n",
              "    <tr>\n",
              "      <th>3</th>\n",
              "      <td>3847776</td>\n",
              "      <td>1269455</td>\n",
              "      <td>2021-01-01 00:00:06</td>\n",
              "      <td>1</td>\n",
              "      <td>M</td>\n",
              "      <td>F</td>\n",
              "      <td>2002</td>\n",
              "      <td>2000</td>\n",
              "      <td>2020-12-28 11:19:02</td>\n",
              "      <td>2019-04-22 20:02:54</td>\n",
              "    </tr>\n",
              "    <tr>\n",
              "      <th>4</th>\n",
              "      <td>1630969</td>\n",
              "      <td>347909</td>\n",
              "      <td>2021-01-01 00:00:23</td>\n",
              "      <td>0</td>\n",
              "      <td>F</td>\n",
              "      <td>M</td>\n",
              "      <td>1980</td>\n",
              "      <td>1983</td>\n",
              "      <td>2019-08-29 00:07:22</td>\n",
              "      <td>2018-01-17 12:14:03</td>\n",
              "    </tr>\n",
              "  </tbody>\n",
              "</table>\n",
              "</div>\n",
              "    <div class=\"colab-df-buttons\">\n",
              "\n",
              "  <div class=\"colab-df-container\">\n",
              "    <button class=\"colab-df-convert\" onclick=\"convertToInteractive('df-13703199-24ba-4bef-9ffb-fbde4f64b209')\"\n",
              "            title=\"Convert this dataframe to an interactive table.\"\n",
              "            style=\"display:none;\">\n",
              "\n",
              "  <svg xmlns=\"http://www.w3.org/2000/svg\" height=\"24px\" viewBox=\"0 -960 960 960\">\n",
              "    <path d=\"M120-120v-720h720v720H120Zm60-500h600v-160H180v160Zm220 220h160v-160H400v160Zm0 220h160v-160H400v160ZM180-400h160v-160H180v160Zm440 0h160v-160H620v160ZM180-180h160v-160H180v160Zm440 0h160v-160H620v160Z\"/>\n",
              "  </svg>\n",
              "    </button>\n",
              "\n",
              "  <style>\n",
              "    .colab-df-container {\n",
              "      display:flex;\n",
              "      gap: 12px;\n",
              "    }\n",
              "\n",
              "    .colab-df-convert {\n",
              "      background-color: #E8F0FE;\n",
              "      border: none;\n",
              "      border-radius: 50%;\n",
              "      cursor: pointer;\n",
              "      display: none;\n",
              "      fill: #1967D2;\n",
              "      height: 32px;\n",
              "      padding: 0 0 0 0;\n",
              "      width: 32px;\n",
              "    }\n",
              "\n",
              "    .colab-df-convert:hover {\n",
              "      background-color: #E2EBFA;\n",
              "      box-shadow: 0px 1px 2px rgba(60, 64, 67, 0.3), 0px 1px 3px 1px rgba(60, 64, 67, 0.15);\n",
              "      fill: #174EA6;\n",
              "    }\n",
              "\n",
              "    .colab-df-buttons div {\n",
              "      margin-bottom: 4px;\n",
              "    }\n",
              "\n",
              "    [theme=dark] .colab-df-convert {\n",
              "      background-color: #3B4455;\n",
              "      fill: #D2E3FC;\n",
              "    }\n",
              "\n",
              "    [theme=dark] .colab-df-convert:hover {\n",
              "      background-color: #434B5C;\n",
              "      box-shadow: 0px 1px 3px 1px rgba(0, 0, 0, 0.15);\n",
              "      filter: drop-shadow(0px 1px 2px rgba(0, 0, 0, 0.3));\n",
              "      fill: #FFFFFF;\n",
              "    }\n",
              "  </style>\n",
              "\n",
              "    <script>\n",
              "      const buttonEl =\n",
              "        document.querySelector('#df-13703199-24ba-4bef-9ffb-fbde4f64b209 button.colab-df-convert');\n",
              "      buttonEl.style.display =\n",
              "        google.colab.kernel.accessAllowed ? 'block' : 'none';\n",
              "\n",
              "      async function convertToInteractive(key) {\n",
              "        const element = document.querySelector('#df-13703199-24ba-4bef-9ffb-fbde4f64b209');\n",
              "        const dataTable =\n",
              "          await google.colab.kernel.invokeFunction('convertToInteractive',\n",
              "                                                    [key], {});\n",
              "        if (!dataTable) return;\n",
              "\n",
              "        const docLinkHtml = 'Like what you see? Visit the ' +\n",
              "          '<a target=\"_blank\" href=https://colab.research.google.com/notebooks/data_table.ipynb>data table notebook</a>'\n",
              "          + ' to learn more about interactive tables.';\n",
              "        element.innerHTML = '';\n",
              "        dataTable['output_type'] = 'display_data';\n",
              "        await google.colab.output.renderOutput(dataTable, element);\n",
              "        const docLink = document.createElement('div');\n",
              "        docLink.innerHTML = docLinkHtml;\n",
              "        element.appendChild(docLink);\n",
              "      }\n",
              "    </script>\n",
              "  </div>\n",
              "\n",
              "\n",
              "    <div id=\"df-9eeddd33-00f3-4750-819a-f49f139bcf25\">\n",
              "      <button class=\"colab-df-quickchart\" onclick=\"quickchart('df-9eeddd33-00f3-4750-819a-f49f139bcf25')\"\n",
              "                title=\"Suggest charts\"\n",
              "                style=\"display:none;\">\n",
              "\n",
              "<svg xmlns=\"http://www.w3.org/2000/svg\" height=\"24px\"viewBox=\"0 0 24 24\"\n",
              "     width=\"24px\">\n",
              "    <g>\n",
              "        <path d=\"M19 3H5c-1.1 0-2 .9-2 2v14c0 1.1.9 2 2 2h14c1.1 0 2-.9 2-2V5c0-1.1-.9-2-2-2zM9 17H7v-7h2v7zm4 0h-2V7h2v10zm4 0h-2v-4h2v4z\"/>\n",
              "    </g>\n",
              "</svg>\n",
              "      </button>\n",
              "\n",
              "<style>\n",
              "  .colab-df-quickchart {\n",
              "      --bg-color: #E8F0FE;\n",
              "      --fill-color: #1967D2;\n",
              "      --hover-bg-color: #E2EBFA;\n",
              "      --hover-fill-color: #174EA6;\n",
              "      --disabled-fill-color: #AAA;\n",
              "      --disabled-bg-color: #DDD;\n",
              "  }\n",
              "\n",
              "  [theme=dark] .colab-df-quickchart {\n",
              "      --bg-color: #3B4455;\n",
              "      --fill-color: #D2E3FC;\n",
              "      --hover-bg-color: #434B5C;\n",
              "      --hover-fill-color: #FFFFFF;\n",
              "      --disabled-bg-color: #3B4455;\n",
              "      --disabled-fill-color: #666;\n",
              "  }\n",
              "\n",
              "  .colab-df-quickchart {\n",
              "    background-color: var(--bg-color);\n",
              "    border: none;\n",
              "    border-radius: 50%;\n",
              "    cursor: pointer;\n",
              "    display: none;\n",
              "    fill: var(--fill-color);\n",
              "    height: 32px;\n",
              "    padding: 0;\n",
              "    width: 32px;\n",
              "  }\n",
              "\n",
              "  .colab-df-quickchart:hover {\n",
              "    background-color: var(--hover-bg-color);\n",
              "    box-shadow: 0 1px 2px rgba(60, 64, 67, 0.3), 0 1px 3px 1px rgba(60, 64, 67, 0.15);\n",
              "    fill: var(--button-hover-fill-color);\n",
              "  }\n",
              "\n",
              "  .colab-df-quickchart-complete:disabled,\n",
              "  .colab-df-quickchart-complete:disabled:hover {\n",
              "    background-color: var(--disabled-bg-color);\n",
              "    fill: var(--disabled-fill-color);\n",
              "    box-shadow: none;\n",
              "  }\n",
              "\n",
              "  .colab-df-spinner {\n",
              "    border: 2px solid var(--fill-color);\n",
              "    border-color: transparent;\n",
              "    border-bottom-color: var(--fill-color);\n",
              "    animation:\n",
              "      spin 1s steps(1) infinite;\n",
              "  }\n",
              "\n",
              "  @keyframes spin {\n",
              "    0% {\n",
              "      border-color: transparent;\n",
              "      border-bottom-color: var(--fill-color);\n",
              "      border-left-color: var(--fill-color);\n",
              "    }\n",
              "    20% {\n",
              "      border-color: transparent;\n",
              "      border-left-color: var(--fill-color);\n",
              "      border-top-color: var(--fill-color);\n",
              "    }\n",
              "    30% {\n",
              "      border-color: transparent;\n",
              "      border-left-color: var(--fill-color);\n",
              "      border-top-color: var(--fill-color);\n",
              "      border-right-color: var(--fill-color);\n",
              "    }\n",
              "    40% {\n",
              "      border-color: transparent;\n",
              "      border-right-color: var(--fill-color);\n",
              "      border-top-color: var(--fill-color);\n",
              "    }\n",
              "    60% {\n",
              "      border-color: transparent;\n",
              "      border-right-color: var(--fill-color);\n",
              "    }\n",
              "    80% {\n",
              "      border-color: transparent;\n",
              "      border-right-color: var(--fill-color);\n",
              "      border-bottom-color: var(--fill-color);\n",
              "    }\n",
              "    90% {\n",
              "      border-color: transparent;\n",
              "      border-bottom-color: var(--fill-color);\n",
              "    }\n",
              "  }\n",
              "</style>\n",
              "\n",
              "      <script>\n",
              "        async function quickchart(key) {\n",
              "          const quickchartButtonEl =\n",
              "            document.querySelector('#' + key + ' button');\n",
              "          quickchartButtonEl.disabled = true;  // To prevent multiple clicks.\n",
              "          quickchartButtonEl.classList.add('colab-df-spinner');\n",
              "          try {\n",
              "            const charts = await google.colab.kernel.invokeFunction(\n",
              "                'suggestCharts', [key], {});\n",
              "          } catch (error) {\n",
              "            console.error('Error during call to suggestCharts:', error);\n",
              "          }\n",
              "          quickchartButtonEl.classList.remove('colab-df-spinner');\n",
              "          quickchartButtonEl.classList.add('colab-df-quickchart-complete');\n",
              "        }\n",
              "        (() => {\n",
              "          let quickchartButtonEl =\n",
              "            document.querySelector('#df-9eeddd33-00f3-4750-819a-f49f139bcf25 button');\n",
              "          quickchartButtonEl.style.display =\n",
              "            google.colab.kernel.accessAllowed ? 'block' : 'none';\n",
              "        })();\n",
              "      </script>\n",
              "    </div>\n",
              "\n",
              "    </div>\n",
              "  </div>\n"
            ],
            "application/vnd.google.colaboratory.intrinsic+json": {
              "type": "dataframe",
              "variable_name": "swipes"
            }
          },
          "metadata": {},
          "execution_count": 4
        }
      ]
    },
    {
      "cell_type": "code",
      "source": [
        "# Checking how big is the data\n",
        "swipes.shape"
      ],
      "metadata": {
        "colab": {
          "base_uri": "https://localhost:8080/"
        },
        "id": "qloAk91xjLAn",
        "outputId": "7d1c925f-85e0-45a5-b279-a3380361aa95"
      },
      "execution_count": 5,
      "outputs": [
        {
          "output_type": "execute_result",
          "data": {
            "text/plain": [
              "(9859578, 10)"
            ]
          },
          "metadata": {},
          "execution_count": 5
        }
      ]
    },
    {
      "cell_type": "code",
      "source": [
        "# Checking missing data\n",
        "swipes.isna().sum()"
      ],
      "metadata": {
        "colab": {
          "base_uri": "https://localhost:8080/",
          "height": 398
        },
        "id": "caLXahVIjQ-u",
        "outputId": "052f85dd-af3c-40c8-c7ac-cfba88a4320e"
      },
      "execution_count": 6,
      "outputs": [
        {
          "output_type": "execute_result",
          "data": {
            "text/plain": [
              "decidermemberid           0\n",
              "othermemberid             0\n",
              "timestamp                 0\n",
              "like                      0\n",
              "decidergender             0\n",
              "othergender               0\n",
              "deciderdobyear            0\n",
              "otherdobyear              0\n",
              "decidersignuptimestamp    0\n",
              "othersignuptimestamp      0\n",
              "dtype: int64"
            ],
            "text/html": [
              "<div>\n",
              "<style scoped>\n",
              "    .dataframe tbody tr th:only-of-type {\n",
              "        vertical-align: middle;\n",
              "    }\n",
              "\n",
              "    .dataframe tbody tr th {\n",
              "        vertical-align: top;\n",
              "    }\n",
              "\n",
              "    .dataframe thead th {\n",
              "        text-align: right;\n",
              "    }\n",
              "</style>\n",
              "<table border=\"1\" class=\"dataframe\">\n",
              "  <thead>\n",
              "    <tr style=\"text-align: right;\">\n",
              "      <th></th>\n",
              "      <th>0</th>\n",
              "    </tr>\n",
              "  </thead>\n",
              "  <tbody>\n",
              "    <tr>\n",
              "      <th>decidermemberid</th>\n",
              "      <td>0</td>\n",
              "    </tr>\n",
              "    <tr>\n",
              "      <th>othermemberid</th>\n",
              "      <td>0</td>\n",
              "    </tr>\n",
              "    <tr>\n",
              "      <th>timestamp</th>\n",
              "      <td>0</td>\n",
              "    </tr>\n",
              "    <tr>\n",
              "      <th>like</th>\n",
              "      <td>0</td>\n",
              "    </tr>\n",
              "    <tr>\n",
              "      <th>decidergender</th>\n",
              "      <td>0</td>\n",
              "    </tr>\n",
              "    <tr>\n",
              "      <th>othergender</th>\n",
              "      <td>0</td>\n",
              "    </tr>\n",
              "    <tr>\n",
              "      <th>deciderdobyear</th>\n",
              "      <td>0</td>\n",
              "    </tr>\n",
              "    <tr>\n",
              "      <th>otherdobyear</th>\n",
              "      <td>0</td>\n",
              "    </tr>\n",
              "    <tr>\n",
              "      <th>decidersignuptimestamp</th>\n",
              "      <td>0</td>\n",
              "    </tr>\n",
              "    <tr>\n",
              "      <th>othersignuptimestamp</th>\n",
              "      <td>0</td>\n",
              "    </tr>\n",
              "  </tbody>\n",
              "</table>\n",
              "</div><br><label><b>dtype:</b> int64</label>"
            ]
          },
          "metadata": {},
          "execution_count": 6
        }
      ]
    },
    {
      "cell_type": "markdown",
      "source": [
        "For this problem I selected only likes data because it provides a clear, unambiguous signal of positive user preference, making it ideal for training ranking models. Unlike swipes or profile views, which may reflect casual browsing or indecision, likes indicate genuine interest."
      ],
      "metadata": {
        "id": "sE-dEtc9lBp8"
      }
    },
    {
      "cell_type": "code",
      "source": [
        "# Select only likes data\n",
        "swipes = swipes[swipes['like'] == 1]"
      ],
      "metadata": {
        "id": "DaeNRxdNkaab"
      },
      "execution_count": 7,
      "outputs": []
    },
    {
      "cell_type": "code",
      "source": [
        "# Check data shape after the selection\n",
        "swipes.shape"
      ],
      "metadata": {
        "colab": {
          "base_uri": "https://localhost:8080/"
        },
        "id": "Jtfpya97k7G-",
        "outputId": "f2479a8c-81f7-4105-aa2d-5c6a01dad5e7"
      },
      "execution_count": 8,
      "outputs": [
        {
          "output_type": "execute_result",
          "data": {
            "text/plain": [
              "(3413063, 10)"
            ]
          },
          "metadata": {},
          "execution_count": 8
        }
      ]
    },
    {
      "cell_type": "code",
      "source": [
        "# Converting decider member ids, other member ids to continuous ids\n",
        "user_ids = swipes['decidermemberid'].unique()\n",
        "item_ids = swipes['othermemberid'].unique()\n",
        "user_to_idx = {u: i for i, u in enumerate(user_ids)}\n",
        "item_to_idx = {i: j for j, i in enumerate(item_ids)}\n",
        "swipes['user_idx'] = swipes['decidermemberid'].map(user_to_idx)\n",
        "swipes['item_idx'] = swipes['othermemberid'].map(item_to_idx)"
      ],
      "metadata": {
        "id": "dTaa05ktrIVF"
      },
      "execution_count": 9,
      "outputs": []
    },
    {
      "cell_type": "code",
      "source": [
        "# Create core interation level features\n",
        "swipes['age_diff'] = abs((2025 - swipes['deciderdobyear']) - (2025 - swipes['otherdobyear']))\n",
        "swipes['hour'] = pd.to_datetime(swipes['timestamp']).dt.hour\n",
        "swipes['night'] = ((swipes['hour'] >= 20) | (swipes['hour'] <= 1)).astype(int)\n",
        "swipes['days_since'] = (pd.Timestamp.now() - pd.to_datetime(swipes['timestamp'])).dt.days\n",
        "\n",
        "def hour_bucket(h):\n",
        "    if 5 <= h < 12: return \"morning\"\n",
        "    elif 12 <= h < 17: return \"afternoon\"\n",
        "    elif 17 <= h < 21: return \"evening\"\n",
        "    else: return \"night\"\n",
        "swipes['hour_bucket'] = swipes['hour'].apply(hour_bucket)\n",
        "swipes['age_group'] = pd.cut(swipes['age_diff'], bins=[-1,2,5,10,100], labels=['<=2','3-5','6-10','>10'])\n"
      ],
      "metadata": {
        "id": "hCSx0ShmtI-4"
      },
      "execution_count": 10,
      "outputs": []
    },
    {
      "cell_type": "markdown",
      "source": [
        "## Data Splitting - Time based split\n",
        "\n",
        "  - Time based splitting mimics the production where we predict future interactions.\n",
        "  - Prevents data leakage from future to past"
      ],
      "metadata": {
        "id": "3FUFhQ-xwPlo"
      }
    },
    {
      "cell_type": "code",
      "source": [
        "# Sorting the data according to timestamp\n",
        "swipes.sort_values('timestamp', inplace=True)\n",
        "split_idx = int(0.8 * len(swipes))\n",
        "train_df = swipes.iloc[:split_idx].copy()\n",
        "test_df = swipes.iloc[split_idx:].copy()\n",
        "\n",
        "train_items_set = set(train_df['item_idx'])\n",
        "test_df = test_df[test_df['item_idx'].isin(train_items_set)]  # keep unseen users, drop unseen items\n"
      ],
      "metadata": {
        "id": "8-X4Evv0wAmX"
      },
      "execution_count": 11,
      "outputs": []
    },
    {
      "cell_type": "markdown",
      "source": [
        "## Feature Engineering\n",
        "#### Aggregated user and iteam features\n",
        " - Summarizes historical behavior into meaningful numerical & categorical features.\n",
        " - Improves model's ability to generalize.\n"
      ],
      "metadata": {
        "id": "62MsrK8SxSgP"
      }
    },
    {
      "cell_type": "code",
      "source": [
        "# User level aggregated features - train only to avoid leakage\n",
        "user_features = train_df.groupby('user_idx').agg(\n",
        "    user_activity=('user_idx', 'size'),\n",
        "    user_night_ratio=('night', 'mean'),\n",
        "    user_avg_age_diff=('age_diff', 'mean'),\n",
        "    user_avg_recency=('days_since', 'mean'),\n",
        "    top_hour_bucket=('hour_bucket', lambda x: x.mode().iloc[0] if not x.mode().empty else 'night'),\n",
        "    deciderdobyear=('deciderdobyear', 'first')\n",
        ").to_dict(orient='index')"
      ],
      "metadata": {
        "id": "y9PKuwiUxGfl"
      },
      "execution_count": 12,
      "outputs": []
    },
    {
      "cell_type": "code",
      "source": [
        "# Item level aggregated features\n",
        "item_features = train_df.groupby('item_idx').agg(\n",
        "    item_avg_age_diff=('age_diff', 'mean'),\n",
        "    item_avg_recency=('days_since', 'mean'),\n",
        "    top_hour_bucket=('hour_bucket', lambda x: x.mode().iloc[0] if not x.mode().empty else 'night'),\n",
        "    otherdobyear=('otherdobyear', 'first')\n",
        ").to_dict(orient='index')"
      ],
      "metadata": {
        "id": "rQPWhp3lyFh_"
      },
      "execution_count": 13,
      "outputs": []
    },
    {
      "cell_type": "code",
      "source": [
        "# Popularity and relationship features\n",
        "item_pop = train_df['item_idx'].value_counts().to_dict()\n",
        "mutual_likes = train_df.groupby(['item_idx', 'user_idx'])['like'].sum().to_dict()\n",
        "user_agegroup_recency = train_df.groupby(['user_idx', 'age_group'])['days_since'].min().to_dict()\n"
      ],
      "metadata": {
        "id": "J1e4VHLeyZID"
      },
      "execution_count": 14,
      "outputs": []
    },
    {
      "cell_type": "code",
      "source": [
        "# Negative sampling\n",
        "def sample_hard_negatives(df_base, num_neg=5, sparse_user_thresh=10):\n",
        "    \"\"\"\n",
        "    For sparse users:\n",
        "        - Sample negatives with similar popularity & demographics (hard negatives).\n",
        "    For active users:\n",
        "        - Sample random negatives.\n",
        "    \"\"\"\n",
        "    # Prepare global item features\n",
        "    all_items = set(item_features.keys())\n",
        "    item_pop_series = pd.Series(item_pop)\n",
        "    item_age_series = pd.Series({i: itf.get('item_avg_age_diff', 0) for i, itf in item_features.items()})\n",
        "\n",
        "    # Pre-bucket items for faster lookup\n",
        "    pop_buckets, age_buckets = defaultdict(list), defaultdict(list)\n",
        "    for i in all_items:\n",
        "        pop_bucket = round(item_pop_series.get(i, 0) / max(1, item_pop_series.max()), 1)\n",
        "        age_bucket = round(item_age_series.get(i, 0) / 2)\n",
        "        pop_buckets[pop_bucket].append(i)\n",
        "        age_buckets[age_bucket].append(i)\n",
        "\n",
        "    # Get user-level stats from df_base\n",
        "    user_pos_items = df_base.groupby('user_idx')['item_idx'].apply(set).to_dict()\n",
        "    user_activity_count = df_base['user_idx'].value_counts().to_dict()\n",
        "\n",
        "    negatives = []\n",
        "\n",
        "    # Negative sampling loop per user\n",
        "    for u, pos_items in user_pos_items.items():\n",
        "        # Decide sampling strategy based on activity level\n",
        "        use_hard = user_activity_count.get(u, 0) <= sparse_user_thresh\n",
        "        # Candidate negatives = items not interacted with by the user\n",
        "        possible_negs = list(all_items - pos_items)\n",
        "\n",
        "        if use_hard:\n",
        "\n",
        "            # Hard negative sampling for sparse users\n",
        "            hard_candidates = set()\n",
        "            for pos_item in pos_items:\n",
        "                pop_bucket = round(item_pop_series.get(pos_item, 0) / max(1, item_pop_series.max()), 1)\n",
        "                age_bucket = round(item_age_series.get(pos_item, 0) / 2)\n",
        "                hard_candidates.update(pop_buckets.get(pop_bucket, []))\n",
        "                hard_candidates.update(age_buckets.get(age_bucket, []))\n",
        "            hard_candidates -= pos_items\n",
        "            sampled = np.random.choice(list(hard_candidates) if hard_candidates else possible_negs,\n",
        "                                       size=min(num_neg, len(hard_candidates) or len(possible_negs)),\n",
        "                                       replace=False)\n",
        "        else:\n",
        "            # Random negative sampling for active users\n",
        "            sampled = np.random.choice(possible_negs, size=min(num_neg, len(possible_negs)), replace=False)\n",
        "\n",
        "        # Append sampled negatives as (user, item, label=0)\n",
        "        negatives.extend((u, i, 0) for i in sampled)\n",
        "    return negatives\n"
      ],
      "metadata": {
        "id": "QGb0AE5o0wjl"
      },
      "execution_count": 15,
      "outputs": []
    },
    {
      "cell_type": "code",
      "source": [
        "# Combine positive and negative samples for training\n",
        "neg_samples = sample_hard_negatives(train_df, num_neg=5)\n",
        "pos_samples = [(row.user_idx, row.item_idx, 1) for row in train_df.itertuples(index=False)]\n",
        "train_df_full = pd.DataFrame(pos_samples + neg_samples, columns=['user_idx', 'item_idx', 'label'])"
      ],
      "metadata": {
        "id": "tulKRyT2Z-HB"
      },
      "execution_count": 16,
      "outputs": []
    },
    {
      "cell_type": "code",
      "source": [
        "def make_features(df_pairs):\n",
        "    # Convert lookup dicts to DataFrames for fast merge\n",
        "    uf_df = pd.DataFrame.from_dict(user_features, orient='index').reset_index().rename(columns={'index': 'user_idx'})\n",
        "    itf_df = pd.DataFrame.from_dict(item_features, orient='index').reset_index().rename(columns={'index': 'item_idx'})\n",
        "\n",
        "    # Merge user & item features\n",
        "    feats = df_pairs.merge(uf_df, on='user_idx', how='left', suffixes=('', '_user'))\n",
        "    feats = feats.merge(itf_df, on='item_idx', how='left', suffixes=('', '_item'))\n",
        "\n",
        "    # Fill NaNs for missing users/items\n",
        "    feats.fillna({\n",
        "        'user_activity': 0,\n",
        "        'user_night_ratio': 0,\n",
        "        'user_avg_age_diff': 0,\n",
        "        'user_avg_recency': 0,\n",
        "        'top_hour_bucket': 'night',\n",
        "        'deciderdobyear': 2000,\n",
        "        'item_avg_age_diff': 0,\n",
        "        'item_avg_recency': 0,\n",
        "        'top_hour_bucket_item': 'night',\n",
        "        'otherdobyear': 2000\n",
        "    }, inplace=True)\n",
        "\n",
        "    # Vectorized demographic similarity\n",
        "    feats['age_diff'] = abs((2025 - feats['deciderdobyear']) - (2025 - feats['otherdobyear']))\n",
        "    feats['age_group_match'] = (feats['age_diff'] <= 5).astype(int)\n",
        "\n",
        "    # Mutual likes vectorized lookup\n",
        "    mutual_likes_series = pd.Series(mutual_likes)\n",
        "    mutual_likes_series.index = pd.MultiIndex.from_tuples(mutual_likes_series.index)\n",
        "    feats['mutual_like_score'] = list(mutual_likes_series.reindex(list(zip(feats['item_idx'], feats['user_idx']))).fillna(0))\n",
        "\n",
        "    # Vectorized age group + recency lookup\n",
        "    feats['user_age_group'] = pd.cut(feats['age_diff'], bins=[-1,2,5,10,100], labels=['<=2','3-5','6-10','>10'])\n",
        "    recency_lookup = pd.Series(user_agegroup_recency)\n",
        "    recency_lookup.index = pd.MultiIndex.from_tuples(recency_lookup.index)\n",
        "    feats['interaction_recency'] = list(recency_lookup.reindex(list(zip(feats['user_idx'], feats['user_age_group']))).fillna(999))\n",
        "\n",
        "    # Hour bucket match\n",
        "    feats['hour_bucket_match'] = (feats['top_hour_bucket'] == feats['top_hour_bucket_item']).astype(int)\n",
        "\n",
        "    # Item popularity mapping\n",
        "    feats['item_popularity'] = feats['item_idx'].map(item_pop).fillna(0)\n",
        "\n",
        "    # Keep only required features\n",
        "    return feats[[\n",
        "        'user_activity',\n",
        "        'user_night_ratio',\n",
        "        'user_avg_age_diff',\n",
        "        'user_avg_recency',\n",
        "        'item_popularity',\n",
        "        'item_avg_age_diff',\n",
        "        'item_avg_recency',\n",
        "        'age_diff',\n",
        "        'age_group_match',\n",
        "        'mutual_like_score',\n",
        "        'interaction_recency',\n",
        "        'hour_bucket_match',\n",
        "        'label'\n",
        "    ]]"
      ],
      "metadata": {
        "id": "s0EXDHHHhoQS"
      },
      "execution_count": 17,
      "outputs": []
    },
    {
      "cell_type": "code",
      "source": [
        "# Create train features by calling the make_features\n",
        "train_features = make_features(train_df_full)\n",
        "\n",
        "# Features\n",
        "features = [c for c in train_features.columns if c != 'label']"
      ],
      "metadata": {
        "id": "hk5M2rJTaiqn"
      },
      "execution_count": 18,
      "outputs": []
    },
    {
      "cell_type": "markdown",
      "source": [
        "## Model training"
      ],
      "metadata": {
        "id": "rY4a9iQTeGAu"
      }
    },
    {
      "cell_type": "code",
      "source": [
        "# Model\n",
        "lgb_model = lgb.LGBMClassifier(\n",
        "    n_estimators=300,\n",
        "    learning_rate=0.04,\n",
        "    num_leaves=50,\n",
        "    random_state=42\n",
        ")\n",
        "\n",
        "# Fitting the model\n",
        "lgb_model.fit(train_features[features], train_features['label'])"
      ],
      "metadata": {
        "id": "aMJc_Xb1aien"
      },
      "execution_count": null,
      "outputs": []
    },
    {
      "cell_type": "markdown",
      "source": [
        "## Feature importance"
      ],
      "metadata": {
        "id": "rPiY9FKQAYk8"
      }
    },
    {
      "cell_type": "code",
      "source": [
        "lgb.plot_importance(lgb_model, max_num_features=10)\n",
        "plt.show()\n"
      ],
      "metadata": {
        "colab": {
          "base_uri": "https://localhost:8080/",
          "height": 472
        },
        "id": "blO88lS2AVcL",
        "outputId": "f6a1e70a-1e3f-4526-cd59-8ad4514e1731"
      },
      "execution_count": 20,
      "outputs": [
        {
          "output_type": "display_data",
          "data": {
            "text/plain": [
              "<Figure size 640x480 with 1 Axes>"
            ],
            "image/png": "[encoded data removed]"
          },
          "metadata": {}
        }
      ]
    },
    {
      "cell_type": "markdown",
      "source": [
        "The feature importance analysis shows that `user_activity` is the strongest predictor, followed by `item_popularity` and `mutual_like_score`, highlighting the dominance of behavioral engagement and popularity in driving recommendations. Demographic similarity features, such as `item_avg_age_diff` and `user_avg_age_diff`, play a moderate role, while temporal factors like `user_night_ratio` and `recency` metrics have lesser influence. Raw `age_diff` is the least important compare to `user_activity`. Overall, the model relies heavily on user engagement patterns and item popularity to make accurate recommendations."
      ],
      "metadata": {
        "id": "pVBaNwRICE-J"
      }
    },
    {
      "cell_type": "markdown",
      "source": [
        "## Evaluation"
      ],
      "metadata": {
        "id": "04XJ4fJmer4M"
      }
    },
    {
      "cell_type": "markdown",
      "source": [
        "Hit Rate@K (also called Hit Ratio@K) is a metric that measures how often at least one of the true relevant items for a user appears in the top‑K recommendations. For example, HR@5 = 0.80 means that in 80% of cases, the model placed a correct item in the first 5 results. It aligns well with real‑world recommendation goals ensuring users quickly see something they like."
      ],
      "metadata": {
        "id": "xdcF8hvV5N4U"
      }
    },
    {
      "cell_type": "code",
      "source": [
        "def hit_ratio_at_k_lgb(model, test_df, train_items_set, features_func, features, user_features, item_pop, K=5, allow_cold_start=False):\n",
        "    \"\"\"\n",
        "    Fast HR@K computation by vectorizing candidate generation and feature computation.\n",
        "    \"\"\"\n",
        "    all_rows = []\n",
        "    for u in test_df['user_idx'].unique():\n",
        "        test_items = list(test_df[test_df['user_idx'] == u]['item_idx'])\n",
        "        if not test_items:\n",
        "            continue\n",
        "\n",
        "        possible_negs = list(train_items_set - set(test_items))\n",
        "        sampled_negs = np.random.choice(possible_negs, size=50, replace=False) if possible_negs else []\n",
        "        candidate_items = test_items + list(sampled_negs)\n",
        "\n",
        "        if allow_cold_start and u not in user_features:\n",
        "            # For cold-start: popularity ranking only\n",
        "            sorted_items = sorted(candidate_items, key=lambda x: item_pop.get(x, 0), reverse=True)\n",
        "            all_rows.extend([(u, i, 1 if i in test_items else 0, None) for i in sorted_items])\n",
        "        else:\n",
        "            # Collect (u, item, label) for later batch processing\n",
        "            all_rows.extend([(u, i, 1 if i in test_items else 0, None) for i in candidate_items])\n",
        "\n",
        "    candidates_df = pd.DataFrame(all_rows, columns=['user_idx', 'item_idx', 'label', 'score'])\n",
        "\n",
        "    # Predict scores for all warm-start users in one go\n",
        "    warm_mask = candidates_df['score'].isna()\n",
        "    warm_df = candidates_df[warm_mask][['user_idx', 'item_idx', 'label']]\n",
        "\n",
        "    if not warm_df.empty:\n",
        "        feats = features_func(warm_df)\n",
        "        scores = model.predict_proba(feats[features])[:, 1]\n",
        "        candidates_df.loc[warm_mask, 'score'] = scores\n",
        "\n",
        "    # For cold-start popularity scoring\n",
        "    cold_mask = ~warm_mask\n",
        "    candidates_df.loc[cold_mask, 'score'] = candidates_df.loc[cold_mask, 'item_idx'].map(item_pop)\n",
        "\n",
        "    # Compute HR@K in vectorized form\n",
        "    top_k_hits = (\n",
        "        candidates_df.groupby('user_idx')\n",
        "        .apply(lambda x: (x.sort_values('score', ascending=False).head(K)['label'] == 1).any())\n",
        "        .mean()\n",
        "    )\n",
        "\n",
        "    return top_k_hits"
      ],
      "metadata": {
        "id": "GgZsIf6binNa"
      },
      "execution_count": 21,
      "outputs": []
    },
    {
      "cell_type": "code",
      "source": [
        "# Calculating hit ratio for the test data\n",
        "warm_hr5 = hit_ratio_at_k_lgb(lgb_model, test_df, train_items_set, make_features, features, user_features, item_pop, K=5, allow_cold_start=False)\n",
        "cold_hr5 = hit_ratio_at_k_lgb(lgb_model, test_df, train_items_set, make_features, features, user_features, item_pop, K=5, allow_cold_start=True)\n",
        "\n",
        "print(\"====================================\")\n",
        "print(f\"Warm-start HR@5: {warm_hr5:.4f}\")\n",
        "print(f\"Cold-start HR@5 (with fallback): {cold_hr5:.4f}\")\n",
        "print(\"====================================\")"
      ],
      "metadata": {
        "colab": {
          "base_uri": "https://localhost:8080/"
        },
        "id": "MOAhu58TayeA",
        "outputId": "cd5c7034-6bc3-4e0e-9cea-3ccd10ef1aa8"
      },
      "execution_count": 22,
      "outputs": [
        {
          "output_type": "stream",
          "name": "stdout",
          "text": [
            "====================================\n",
            "Warm-start HR@5: 0.8954\n",
            "Cold-start HR@5 (with fallback): 0.8676\n",
            "====================================\n"
          ]
        }
      ]
    },
    {
      "cell_type": "markdown",
      "source": [
        "## Demonstration on few users"
      ],
      "metadata": {
        "id": "C-i10SsBpGDg"
      }
    },
    {
      "cell_type": "code",
      "source": [
        "# Reverse mappings for display\n",
        "idx_to_user = {v: k for k, v in user_to_idx.items()}\n",
        "idx_to_item = {v: k for k, v in item_to_idx.items()}\n",
        "\n",
        "def recommend_with_cold_start(user_id, candidate_items, model, features_func, features, user_features, item_pop):\n",
        "    \"\"\"\n",
        "    For warm-start users: rank using LightGBM model.\n",
        "    For cold-start users: fall back to popularity-based ranking.\n",
        "    \"\"\"\n",
        "    if user_id in user_features:\n",
        "        df_candidates = pd.DataFrame({\n",
        "            'user_idx': [user_id] * len(candidate_items),\n",
        "            'item_idx': candidate_items,\n",
        "            'label': [0] * len(candidate_items)  # dummy\n",
        "        })\n",
        "        feats = features_func(df_candidates)\n",
        "        scores = model.predict_proba(feats[features])[:, 1]\n",
        "        ranked_items = [candidate_items[i] for i in np.argsort(-scores)]\n",
        "    else:\n",
        "        ranked_items = sorted(candidate_items, key=lambda x: item_pop.get(x, 0), reverse=True)\n",
        "    return ranked_items\n"
      ],
      "metadata": {
        "id": "8V6FoOOnmjUm"
      },
      "execution_count": 23,
      "outputs": []
    },
    {
      "cell_type": "code",
      "source": [
        "# Selecting couple of users from the data\n",
        "test_users = test_df['user_idx'].unique()\n",
        "warm_test_users = [u for u in test_users if u in user_features][:2]\n",
        "cold_test_users = [u for u in test_users if u not in user_features][:2]\n",
        "\n",
        "def demo_recommendations(user_id):\n",
        "    candidate_items = list(train_items_set)\n",
        "    top_k = recommend_with_cold_start(\n",
        "        user_id,\n",
        "        candidate_items,\n",
        "        lgb_model,\n",
        "        make_features,\n",
        "        features,\n",
        "        user_features,\n",
        "        item_pop\n",
        "    )[:5]\n",
        "    return top_k\n"
      ],
      "metadata": {
        "id": "qUWZZErVpfRA"
      },
      "execution_count": 24,
      "outputs": []
    },
    {
      "cell_type": "code",
      "source": [
        "print(\"=== Warm-start Users from Test Set ===\")\n",
        "for u in warm_test_users:\n",
        "    orig_user_id = int(idx_to_user[u])\n",
        "    past_items = train_df[train_df['user_idx'] == u].head(3)[['item_idx', 'like']].copy()\n",
        "    past_items['othermemberid'] = past_items['item_idx'].map(lambda x: int(idx_to_item[x]))\n",
        "    recs = demo_recommendations(u)\n",
        "    recs_original_ids = [int(idx_to_item[i]) for i in recs]\n",
        "    print(f\"\\nUser {u} (Original ID: {orig_user_id}):\")\n",
        "    print(\"  Past training interactions:\\n\", past_items[['othermemberid', 'like']].to_string(index=False))\n",
        "    print(\"  Recommended items in Test:\", recs_original_ids)"
      ],
      "metadata": {
        "colab": {
          "base_uri": "https://localhost:8080/"
        },
        "id": "60hSWWW2n_EF",
        "outputId": "a3763372-e819-4865-dadf-b86005ddfd96"
      },
      "execution_count": 25,
      "outputs": [
        {
          "output_type": "stream",
          "name": "stdout",
          "text": [
            "=== Warm-start Users from Test Set ===\n",
            "\n",
            "User 5426 (Original ID: 1604738):\n",
            "  Past training interactions:\n",
            "  othermemberid  like\n",
            "        268071     1\n",
            "       1604511     1\n",
            "       1768979     1\n",
            "  Recommended items in Test: [1492541, 3793384, 3828840, 570459, 3866079]\n",
            "\n",
            "User 22062 (Original ID: 1029576):\n",
            "  Past training interactions:\n",
            "  othermemberid  like\n",
            "       3124369     1\n",
            "        797488     1\n",
            "       3865364     1\n",
            "  Recommended items in Test: [3868724, 102876, 410088, 1617634, 1230926]\n"
          ]
        }
      ]
    },
    {
      "cell_type": "code",
      "source": [
        "print(\"=== Cold-start Users from Test Set ===\")\n",
        "for u in cold_test_users:\n",
        "    orig_user_id = idx_to_user.get(u, f\"NEW_USER_{u}\")\n",
        "    if isinstance(orig_user_id, (np.integer, int)):\n",
        "        orig_user_id = int(orig_user_id)\n",
        "    recs = demo_recommendations(u)\n",
        "    recs_original_ids = [int(idx_to_item[i]) for i in recs]\n",
        "    print(f\"\\nNew User {u} (Original ID: {orig_user_id}):\")\n",
        "    print(\"  Recommended items (popularity-based):\", recs_original_ids)"
      ],
      "metadata": {
        "colab": {
          "base_uri": "https://localhost:8080/"
        },
        "id": "b9yWGyfQpnPH",
        "outputId": "12f26970-7017-4a1e-9839-d19e280b96fe"
      },
      "execution_count": 26,
      "outputs": [
        {
          "output_type": "stream",
          "name": "stdout",
          "text": [
            "=== Cold-start Users from Test Set ===\n",
            "\n",
            "New User 44663 (Original ID: 821715):\n",
            "  Recommended items (popularity-based): [3844050, 3866079, 3865583, 3865854, 3868618]\n",
            "\n",
            "New User 36960 (Original ID: 426836):\n",
            "  Recommended items (popularity-based): [3844050, 3866079, 3865583, 3865854, 3868618]\n"
          ]
        }
      ]
    }
  ]
}